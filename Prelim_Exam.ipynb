{
  "nbformat": 4,
  "nbformat_minor": 0,
  "metadata": {
    "colab": {
      "name": "Prelim Exam.ipynb",
      "provenance": [],
      "authorship_tag": "ABX9TyNpDG7rRz/qRHN9Z715Hpmp",
      "include_colab_link": true
    },
    "kernelspec": {
      "name": "python3",
      "display_name": "Python 3"
    },
    "language_info": {
      "name": "python"
    }
  },
  "cells": [
    {
      "cell_type": "markdown",
      "metadata": {
        "id": "view-in-github",
        "colab_type": "text"
      },
      "source": [
        "<a href=\"https://colab.research.google.com/github/sreneee/OOP-58002/blob/main/Prelim_Exam.ipynb\" target=\"_parent\"><img src=\"https://colab.research.google.com/assets/colab-badge.svg\" alt=\"Open In Colab\"/></a>"
      ]
    },
    {
      "cell_type": "markdown",
      "source": [
        "Problem 2"
      ],
      "metadata": {
        "id": "6BZvMjeyGip_"
      }
    },
    {
      "cell_type": "code",
      "source": [
        "class student:\n",
        "  def __init__(self, name, studno, age, school, course):\n",
        "    self.name = name\n",
        "    self.studno = studno\n",
        "    self.age = age\n",
        "    self.school = school\n",
        "    self.course = course\n",
        "  \n",
        "  def Myself(self):\n",
        "    print(self.name)\n",
        "    print(self.studno)\n",
        "    print(self.age)\n",
        "    print(self.school)\n",
        "    print(self.course)\n",
        "\n",
        "\n",
        "A1 =student(\"Ashley Denise T. Goce\", 202112720, 18, \"Adamson University\", \"Bachelor of Science in Computer Engineering (BSCpE)\")\n",
        "A1.Myself()"
      ],
      "metadata": {
        "colab": {
          "base_uri": "https://localhost:8080/"
        },
        "id": "2JZJc3IPJP3n",
        "outputId": "9a05a970-cf81-49b8-ccca-d070c1eab704"
      },
      "execution_count": 3,
      "outputs": [
        {
          "output_type": "stream",
          "name": "stdout",
          "text": [
            "Ashley Denise T. Goce\n",
            "202112720\n",
            "18\n",
            "Adamson University\n",
            "Bachelor of Science in Computer Engineering (BSCpE)\n"
          ]
        }
      ]
    }
  ]
}