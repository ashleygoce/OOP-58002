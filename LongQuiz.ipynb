{
  "nbformat": 4,
  "nbformat_minor": 0,
  "metadata": {
    "colab": {
      "name": "LongQuiz.ipynb",
      "provenance": [],
      "authorship_tag": "ABX9TyM3iKJ8CFEG+fkcKmzAebwF",
      "include_colab_link": true
    },
    "kernelspec": {
      "name": "python3",
      "display_name": "Python 3"
    },
    "language_info": {
      "name": "python"
    }
  },
  "cells": [
    {
      "cell_type": "markdown",
      "metadata": {
        "id": "view-in-github",
        "colab_type": "text"
      },
      "source": [
        "<a href=\"https://colab.research.google.com/github/sreneee/OOP-58002/blob/main/LongQuiz.ipynb\" target=\"_parent\"><img src=\"https://colab.research.google.com/assets/colab-badge.svg\" alt=\"Open In Colab\"/></a>"
      ]
    },
    {
      "cell_type": "code",
      "execution_count": 28,
      "metadata": {
        "colab": {
          "base_uri": "https://localhost:8080/"
        },
        "id": "0SwVvkdIFiWR",
        "outputId": "0a6f15fa-f31e-48e4-9f5c-04cc452cb00c"
      },
      "outputs": [
        {
          "output_type": "stream",
          "name": "stdout",
          "text": [
            "Temperature Conversion (Celsius to Fahrenheit): 67\n",
            "152.60000000000002\n"
          ]
        }
      ],
      "source": [
        "#Celcius to Farenheit = (9/5 * C)+32\n",
        "\n",
        "class Temperature():\n",
        "  def __init__(self,Celsius):\n",
        "    self.Celsius = Celsius\n",
        "\n",
        "  def Fahrenheit(self):\n",
        "    result = float((9/5*self.Celsius)+32)\n",
        "    return result\n",
        "\n",
        "input_Temperature = float(input(\"Temperature Conversion (Celsius to Fahrenheit): \"))\n",
        "Temperature1 = Temperature(input_Temperature)\n",
        "print(Temperature1.Fahrenheit())\n"
      ]
    }
  ]
}