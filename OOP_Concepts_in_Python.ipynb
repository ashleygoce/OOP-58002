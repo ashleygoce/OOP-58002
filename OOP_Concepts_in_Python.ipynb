{
  "nbformat": 4,
  "nbformat_minor": 0,
  "metadata": {
    "colab": {
      "name": "OOP Concepts in Python.ipynb",
      "provenance": [],
      "authorship_tag": "ABX9TyNzc3DmIc+1VVGrT1mBfclG",
      "include_colab_link": true
    },
    "kernelspec": {
      "name": "python3",
      "display_name": "Python 3"
    },
    "language_info": {
      "name": "python"
    }
  },
  "cells": [
    {
      "cell_type": "markdown",
      "metadata": {
        "id": "view-in-github",
        "colab_type": "text"
      },
      "source": [
        "<a href=\"https://colab.research.google.com/github/sreneee/OOP-58002/blob/main/OOP_Concepts_in_Python.ipynb\" target=\"_parent\"><img src=\"https://colab.research.google.com/assets/colab-badge.svg\" alt=\"Open In Colab\"/></a>"
      ]
    },
    {
      "cell_type": "markdown",
      "source": [
        "Create a Class"
      ],
      "metadata": {
        "id": "amIn3T3bHjk8"
      }
    },
    {
      "cell_type": "code",
      "source": [
        "class Car:\n",
        "  pass"
      ],
      "metadata": {
        "id": "PtOGWPH5HmvC"
      },
      "execution_count": null,
      "outputs": []
    },
    {
      "cell_type": "markdown",
      "source": [
        "Create an Object"
      ],
      "metadata": {
        "id": "jghL_BJ6Ky22"
      }
    },
    {
      "cell_type": "code",
      "source": [
        "class Car:\n",
        "  def __init__(self,name,color): #all classes have function called __init__\n",
        "    self.name= name              #attribute names of class named Car\n",
        "    self.color = color \n",
        "  \n",
        "  def decription(self):\n",
        "    return \"The\"+ self.name + \" has a color\" + self.color\n",
        "\n",
        "  def show(self):\n",
        "    print(\"The\"+ self.name+\" has a color \"+self.color)\n",
        "\n",
        "  car1 = Car(\" Honda City\", \"red\")\n",
        "  car1.show()\n"
      ],
      "metadata": {
        "colab": {
          "base_uri": "https://localhost:8080/"
        },
        "id": "0nt-tZ0eK09J",
        "outputId": "e16a4121-e4ce-4856-e695-90d9a243d7e2"
      },
      "execution_count": 14,
      "outputs": [
        {
          "output_type": "stream",
          "name": "stdout",
          "text": [
            "The Honda City has a color red\n"
          ]
        }
      ]
    },
    {
      "cell_type": "markdown",
      "source": [
        "Object Methods"
      ],
      "metadata": {
        "id": "5T1PQPLON35V"
      }
    },
    {
      "cell_type": "code",
      "source": [
        "class Person:\n",
        "  def __init__(self,name,age):\n",
        "    self.name = name\n",
        "    self.age = age\n",
        "  def myFunction(self):\n",
        "    print(\"Hello my name is \",self.name)\n",
        "    print(\"I am\", self.age)\n",
        "\n",
        "  p1 = Person(\"Ashley\", 18):\n",
        "  p1.myFunction()"
      ],
      "metadata": {
        "colab": {
          "base_uri": "https://localhost:8080/",
          "height": 130
        },
        "id": "mWcLhT3KN6LU",
        "outputId": "7c6d9cef-3f7e-43dc-f8e5-c9134b64a862"
      },
      "execution_count": 21,
      "outputs": [
        {
          "output_type": "error",
          "ename": "SyntaxError",
          "evalue": "ignored",
          "traceback": [
            "\u001b[0;36m  File \u001b[0;32m\"<ipython-input-21-403ee5299a18>\"\u001b[0;36m, line \u001b[0;32m9\u001b[0m\n\u001b[0;31m    p1 = Person(\"Ashley\", 18):\u001b[0m\n\u001b[0m                             ^\u001b[0m\n\u001b[0;31mSyntaxError\u001b[0m\u001b[0;31m:\u001b[0m invalid syntax\n"
          ]
        }
      ]
    },
    {
      "cell_type": "markdown",
      "source": [
        "Delete an Object Property"
      ],
      "metadata": {
        "id": "S0Q6DV1YWnNL"
      }
    },
    {
      "cell_type": "code",
      "source": [
        "del car1.color\n",
        "print(car1.color)\n"
      ],
      "metadata": {
        "id": "52JolJeTWpkK"
      },
      "execution_count": null,
      "outputs": []
    },
    {
      "cell_type": "code",
      "source": [
        "print(car1.name)\n"
      ],
      "metadata": {
        "id": "bz0Ribo7XCtp"
      },
      "execution_count": null,
      "outputs": []
    },
    {
      "cell_type": "markdown",
      "source": [
        "Application 1 - Write a Python program that computes for the Area and Perimeter of a Square, and create a class name Square with side as its attribute"
      ],
      "metadata": {
        "id": "uPubLGw1X3mZ"
      }
    },
    {
      "cell_type": "code",
      "source": [
        "#Area of a Square = s*s\n",
        "#Perimeter of a Sqaure = 4*s = s+s+s+s\n",
        "\n",
        "class Square:\n",
        "  def __init__(self,side):\n",
        "   self.side = side\n",
        "  \n",
        "  def Area(self):\n",
        "    return self.side*self.side\n",
        "  \n",
        "  def Perimeter(self):\n",
        "    return 4*(self.side)\n",
        "\n",
        "  def display(self):\n",
        "    print(\"The area of a square is\", self.Area())\n",
        "    print(\"The perimeter of a square is\", self.Perimeter())\n",
        "\n",
        "sq1 = Square(4)\n",
        "sq1.display()\n"
      ],
      "metadata": {
        "colab": {
          "base_uri": "https://localhost:8080/"
        },
        "id": "M3CRXG8oYBop",
        "outputId": "53e5d7bb-4ec4-4777-9a5e-d9a2247f6c6e"
      },
      "execution_count": 22,
      "outputs": [
        {
          "output_type": "stream",
          "name": "stdout",
          "text": [
            "The area of a square is 16\n",
            "The perimeter of a square is 16\n"
          ]
        }
      ]
    }
  ]
}