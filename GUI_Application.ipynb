{
  "nbformat": 4,
  "nbformat_minor": 0,
  "metadata": {
    "colab": {
      "name": "GUI Application.ipynb",
      "provenance": [],
      "authorship_tag": "ABX9TyPnd/yRWqsXbYG49UC+bSmK",
      "include_colab_link": true
    },
    "kernelspec": {
      "name": "python3",
      "display_name": "Python 3"
    },
    "language_info": {
      "name": "python"
    }
  },
  "cells": [
    {
      "cell_type": "markdown",
      "metadata": {
        "id": "view-in-github",
        "colab_type": "text"
      },
      "source": [
        "<a href=\"https://colab.research.google.com/github/sreneee/OOP-58002/blob/main/GUI_Application.ipynb\" target=\"_parent\"><img src=\"https://colab.research.google.com/assets/colab-badge.svg\" alt=\"Open In Colab\"/></a>"
      ]
    },
    {
      "cell_type": "markdown",
      "source": [
        "Create a Python program that displays the grade of a student in prelim, midterm, and final term"
      ],
      "metadata": {
        "id": "J0QEKjmIaHwY"
      }
    },
    {
      "cell_type": "code",
      "source": [
        "#@title Student's Grade in OOP\n",
        "\n",
        "Student__Name = 'Ashley Goce' #@param{type:\"string\"}\n",
        "prelim_grade = 90 #@param{type: \"number\"}\n",
        "midterm_grade = 85 #@param{type: \"number\"}\n",
        "final_grade = 90 #@param{type: \"number\"}\n",
        "semestral = (prelim_grade*0.30+midterm_grade*0.30+final_grade*0.4)\n",
        "\n",
        "print(\"The semestral grade of the student is \" +str(round((semestral),2)))\n",
        "\n",
        "Gender = \"Male\" #@param [\"Male\", \"Female\"]\n",
        "Birthdate = \"2022-03-29\" #@param{type:\"date\"}\n",
        "\n",
        "print(Gender)\n",
        "print(\"My birthday is \"+Birthdate)"
      ],
      "metadata": {
        "colab": {
          "base_uri": "https://localhost:8080/"
        },
        "id": "T9vpd5whaZ7v",
        "outputId": "10437b36-67e2-4773-b68f-65880b55517f"
      },
      "execution_count": 12,
      "outputs": [
        {
          "output_type": "stream",
          "name": "stdout",
          "text": [
            "The semestral grade of the student is 88.5\n",
            "Male\n",
            "My birthday is 2022-03-29\n"
          ]
        }
      ]
    }
  ]
}