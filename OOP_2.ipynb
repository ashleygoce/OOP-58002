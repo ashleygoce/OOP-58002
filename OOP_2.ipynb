{
  "nbformat": 4,
  "nbformat_minor": 0,
  "metadata": {
    "colab": {
      "name": "OOP -2.ipynb",
      "provenance": [],
      "authorship_tag": "ABX9TyOdh6I9ZUQTpnvYAt1hskEL",
      "include_colab_link": true
    },
    "kernelspec": {
      "name": "python3",
      "display_name": "Python 3"
    },
    "language_info": {
      "name": "python"
    }
  },
  "cells": [
    {
      "cell_type": "markdown",
      "metadata": {
        "id": "view-in-github",
        "colab_type": "text"
      },
      "source": [
        "<a href=\"https://colab.research.google.com/github/sreneee/OOP-58002/blob/main/OOP_2.ipynb\" target=\"_parent\"><img src=\"https://colab.research.google.com/assets/colab-badge.svg\" alt=\"Open In Colab\"/></a>"
      ]
    },
    {
      "cell_type": "markdown",
      "source": [
        "Classes with Multiple Objects"
      ],
      "metadata": {
        "id": "1HtAfOeRUw0c"
      }
    },
    {
      "cell_type": "code",
      "source": [
        "class Birds:\n",
        "  def __init__(self, bird_name):\n",
        "    self.bird_name = bird_name\n",
        "  \n",
        "  def flying_birds(self):\n",
        "    print(f\"{self.bird_name} flies above clouds\")\n",
        "\n",
        "  def non_flying_birds(self):\n",
        "    print(f\"{self.bird_name} is the national bird of the Philippines\")\n",
        "  \n",
        "vulture = Birds(\"Griffon Vulture\")\n",
        "crane = Birds(\"Common Crane\")\n",
        "emu = Birds(\"Emu\")\n",
        "\n",
        "vulture.flying_birds()\n",
        "crane.flying_birds()\n",
        "emu.non_flying_birds()"
      ],
      "metadata": {
        "colab": {
          "base_uri": "https://localhost:8080/"
        },
        "id": "sdLfYw2xU7wv",
        "outputId": "93c414a4-a23d-4e9f-c602-fcab4f77c849"
      },
      "execution_count": null,
      "outputs": [
        {
          "output_type": "stream",
          "name": "stdout",
          "text": [
            "Griffon Vulture flies above clouds\n",
            "Common Crane flies above clouds\n",
            "Emu is the national bird of the Philippines\n"
          ]
        }
      ]
    },
    {
      "cell_type": "markdown",
      "source": [
        "Encapsulation "
      ],
      "metadata": {
        "id": "dxBvjOgTXKrB"
      }
    },
    {
      "cell_type": "code",
      "source": [
        "class foo:\n",
        "  def __init__(self, a , b):\n",
        "    self.__a = a\n",
        "    self.__b = b\n",
        "\n",
        "  def add(self):\n",
        "    return self.__a + self.__b\n",
        "  def sub(self):\n",
        "    return self.__a - self.__b\n",
        "foo_object = foo(3,4)\n",
        "\n",
        "print(foo_object.add()) #adding a and b\n",
        "print(foo_object.sub()) #subtracting a and b\n",
        "\n",
        "foo_object.__b = 5\n",
        "foo_object.__a = 7\n",
        "\n",
        "print(foo_object.add())\n",
        "print(foo_object.sub())"
      ],
      "metadata": {
        "colab": {
          "base_uri": "https://localhost:8080/"
        },
        "id": "PvalStpcXM-y",
        "outputId": "5d6bc264-ddf7-4d13-c165-1edc089d0b68"
      },
      "execution_count": null,
      "outputs": [
        {
          "output_type": "stream",
          "name": "stdout",
          "text": [
            "7\n",
            "-1\n",
            "7\n",
            "-1\n"
          ]
        }
      ]
    },
    {
      "cell_type": "markdown",
      "source": [
        "Inheritance"
      ],
      "metadata": {
        "id": "4qUfPbAGdcRS"
      }
    },
    {
      "cell_type": "code",
      "source": [
        "class Person:\n",
        "  def __init__(self,firstname, surname):\n",
        "    self.firstname = firstname\n",
        "    self.surname = surname\n",
        "  \n",
        "  def printname(self):\n",
        "    print(self.firstname, self.surname)\n",
        "\n",
        "person = Person(\"Ashley\", \"Goce\")\n",
        "person.printname()\n",
        "\n",
        "class Student(Person):\n",
        "  pass\n",
        "\n",
        "person = Student(\"Denise\", \"Goce\")\n",
        "person.printname()"
      ],
      "metadata": {
        "colab": {
          "base_uri": "https://localhost:8080/"
        },
        "id": "Q606wV01df1c",
        "outputId": "1d425254-d1ab-4095-ec56-b265d97f4e9a"
      },
      "execution_count": null,
      "outputs": [
        {
          "output_type": "stream",
          "name": "stdout",
          "text": [
            "Ashley Goce\n",
            "Denise Goce\n"
          ]
        }
      ]
    },
    {
      "cell_type": "markdown",
      "source": [
        "Polymorphism"
      ],
      "metadata": {
        "id": "B5jcD9gcgax5"
      }
    },
    {
      "cell_type": "code",
      "source": [
        "class RegularPolygon:\n",
        "  def __init__(self,side):\n",
        "    self.side = side\n",
        "class Square(RegularPolygon):\n",
        "  def area(self):\n",
        "    return self.side*self.side\n",
        "class EquillateralTriangle(RegularPolygon):\n",
        "  def area(self):\n",
        "    return self.side*self.side*0.433\n",
        "\n",
        "x = Square(4)\n",
        "y = EquillateralTriangle(3)\n",
        "\n",
        "print(x.area())\n",
        "print(y.area())\n",
        "    "
      ],
      "metadata": {
        "colab": {
          "base_uri": "https://localhost:8080/"
        },
        "id": "Yd1p7ps6gcgj",
        "outputId": "5f34030f-76d6-4920-86cc-228fd651931d"
      },
      "execution_count": null,
      "outputs": [
        {
          "output_type": "stream",
          "name": "stdout",
          "text": [
            "16\n",
            "3.897\n"
          ]
        }
      ]
    },
    {
      "cell_type": "markdown",
      "source": [
        "Application 1"
      ],
      "metadata": {
        "id": "_kiHfkWXjVGu"
      }
    },
    {
      "cell_type": "code",
      "source": [
        "class Person:\n",
        "  def __init__(self,std1,pre,mid,fin):\n",
        "    self.std1 = std1\n",
        "    self.pre = pre\n",
        "    self.mid = mid\n",
        "    self.fin = fin\n",
        "\n",
        "  def Grade(self):\n",
        "    print(self.std1)\n",
        "    print(self.pre)\n",
        "    print(self.mid)\n",
        "    print(self.fin)\n",
        "\n",
        "s1 =Person(\"Student 1\",'Prelim: 90','Midterm: 87','Finals: 94\\n')\n",
        "s1.Grade()\n",
        "\n",
        "avg =(90+87+94)/3\n",
        "print('Average grade is: ' + str(avg)+'\\n')\n",
        "\n",
        "def __init__(self,std2,pre,mid,fin):\n",
        "  self.std2 = std2\n",
        "  self.pre = pre\n",
        "  self.mid = mid\n",
        "  self.fin = fin\n",
        "\n",
        "def Grade(self):\n",
        "  print(self.std2)\n",
        "  print(self.pre)\n",
        "  print(self.mid)\n",
        "  print(self.fin)\n",
        "\n",
        "s2 =Person(\"Student 2\",'Prelim: 77','Midterm: 83','Finals: 89\\n')\n",
        "s2.Grade()\n",
        "\n",
        "avg =(77+83+89)/3\n",
        "print('Average grade is: ' + str(avg)+'\\n')\n",
        "\n",
        "def __init__(self,std3,pre,mid,fin):\n",
        "  self.std3 = std3\n",
        "  self.pre = pre\n",
        "  self.mid = mid\n",
        "  self.fin = fin\n",
        "\n",
        "def Grade(self):\n",
        "  print(self.std3)\n",
        "  print(self.pre)\n",
        "  print(self.mid)\n",
        "  print(self.fin)\n",
        "\n",
        "s3 =Person(\"Student 3\",'Prelim: 93','Midterm: 97','Finals: 84\\n')\n",
        "s3.Grade()\n",
        "\n",
        "avg =(93+97+84)/3\n",
        "print('Average grade is: ' + str(avg)+'\\n')\n"
      ],
      "metadata": {
        "id": "dgHFWNXjjWk1",
        "outputId": "02388092-bc2b-4c18-d205-e7e1178cc36c",
        "colab": {
          "base_uri": "https://localhost:8080/"
        }
      },
      "execution_count": 1,
      "outputs": [
        {
          "output_type": "stream",
          "name": "stdout",
          "text": [
            "Student 1\n",
            "Prelim: 90\n",
            "Midterm: 87\n",
            "Finals: 94\n",
            "\n",
            "Average grade is: 90.33333333333333\n",
            "\n",
            "Student 2\n",
            "Prelim: 77\n",
            "Midterm: 83\n",
            "Finals: 89\n",
            "\n",
            "Average grade is: 83.0\n",
            "\n",
            "Student 3\n",
            "Prelim: 93\n",
            "Midterm: 97\n",
            "Finals: 84\n",
            "\n",
            "Average grade is: 91.33333333333333\n",
            "\n"
          ]
        }
      ]
    }
  ]
}