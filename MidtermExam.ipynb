{
  "nbformat": 4,
  "nbformat_minor": 0,
  "metadata": {
    "colab": {
      "name": "Untitled4.ipynb",
      "provenance": [],
      "authorship_tag": "ABX9TyMaNhYlaLGu8Gdp050oTeqY",
      "include_colab_link": true
    },
    "kernelspec": {
      "name": "python3",
      "display_name": "Python 3"
    },
    "language_info": {
      "name": "python"
    }
  },
  "cells": [
    {
      "cell_type": "markdown",
      "metadata": {
        "id": "view-in-github",
        "colab_type": "text"
      },
      "source": [
        "<a href=\"https://colab.research.google.com/github/sreneee/OOP-58002/blob/main/MidtermExam.ipynb\" target=\"_parent\"><img src=\"https://colab.research.google.com/assets/colab-badge.svg\" alt=\"Open In Colab\"/></a>"
      ]
    },
    {
      "cell_type": "code",
      "execution_count": 12,
      "metadata": {
        "colab": {
          "base_uri": "https://localhost:8080/"
        },
        "id": "AHbK6kKievpb",
        "outputId": "1f489162-48a5-4130-968d-a35eafff2bd5"
      },
      "outputs": [
        {
          "output_type": "stream",
          "name": "stdout",
          "text": [
            "Enter the temperature in Celsius: 6\n",
            "279.15 Kelvin\n",
            "42.8 Fahrenheit\n",
            "Enter the temperature in Fahrenheit: 4\n",
            "-15.555555555555555 Celcius\n",
            "Enter the temperature in Kelvin: 6\n",
            "279.15 Kelvin\n"
          ]
        }
      ],
      "source": [
        "def main():\n",
        "\n",
        "  \n",
        "\n",
        " class TemperatureConversion:\n",
        "\n",
        "  def __init__(self, temp=1):\n",
        "\n",
        "   self._temp = temp\n",
        "\n",
        " class CelsiusToFahrenheit(TemperatureConversion):\n",
        "\n",
        "  def conversion(self):\n",
        "\n",
        "   return (self._temp * 9) / 5 + 32\n",
        "\n",
        " class CelsiusToKelvin(TemperatureConversion):\n",
        "\n",
        "  def conversion(self):\n",
        "\n",
        "   return self._temp + 273.15\n",
        "\n",
        " tempInCelsius = float(input(\"Enter the temperature in Celsius: \"))\n",
        "\n",
        " convert = CelsiusToKelvin(tempInCelsius)\n",
        "\n",
        " print(str(convert.conversion()) + \" Kelvin\")\n",
        "\n",
        " convert = CelsiusToFahrenheit(tempInCelsius)\n",
        "\n",
        " print(str(convert.conversion()) + \" Fahrenheit\")\n",
        "\n",
        " class FahrenheitToCelsius(TemperatureConversion):\n",
        "\n",
        "  def conversion(self):\n",
        "\n",
        "   return (self._temp - 32) * 5 / 9\n",
        "\n",
        " class KelvinToCelsius(TemperatureConversion):\n",
        "\n",
        "  def conversion(self):\n",
        "\n",
        "   return (self._temp + 273.15)\n",
        "           \n",
        " tempInFahrenheit = float(input(\"Enter the temperature in Fahrenheit: \"))\n",
        " \n",
        " convert = FahrenheitToCelsius(tempInFahrenheit)\n",
        "\n",
        " print(str(convert.conversion()) + \" Celcius\")\n",
        "\n",
        " tempInKelvin = float(input(\"Enter the temperature in Kelvin: \"))\n",
        "\n",
        " convert = KelvinToCelsius(tempInKelvin)\n",
        "\n",
        " print(str(convert.conversion()) + \" Kelvin\")\n",
        "\n",
        "\n",
        "\n",
        "main()"
      ]
    },
    {
      "cell_type": "markdown",
      "source": [
        "Part 2"
      ],
      "metadata": {
        "id": "8TR9lTKLo6or"
      }
    },
    {
      "cell_type": "code",
      "source": [
        "from tkinter import *\n",
        "from tkinter import ttk\n",
        "\n",
        "win = Tk()\n",
        "win.geometry(\"500x300+10+20\")\n",
        "win.title(\"Midterm in OOP\")\n",
        "\n",
        "lbl =  Label(win, text =\"Entre your Fullname\", fg = \"red\")\n",
        "lbl.place(x=30, y=100)\n",
        "\n",
        "txt = Entry(win,font = (\"verdana\",12), bd = 5)\n",
        "txt.place(x=240, y=95)\n",
        "\n",
        "btn = Button(win, text = \"Click to display your fullname\", fg = \"red\")\n",
        "btn.place (x=30, y=150)\n",
        "\n",
        "txt = Entry(win,font = (\"verdana\",12), bd = 5)\n",
        "txt.place(x=240, y=150)\n",
        "win.mainloop()"
      ],
      "metadata": {
        "id": "oA-4Xu2hpCFq"
      },
      "execution_count": null,
      "outputs": []
    }
  ]
}